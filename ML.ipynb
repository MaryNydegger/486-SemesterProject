{
 "cells": [
  {
   "cell_type": "code",
   "execution_count": 1,
   "metadata": {},
   "outputs": [],
   "source": [
    "import pandas as pd\n",
    "import os\n",
    "from sklearn.feature_extraction.text import TfidfVectorizer\n",
    "from sklearn.model_selection import train_test_split\n",
    "from sklearn.naive_bayes import MultinomialNB\n",
    "from sklearn.metrics import accuracy_score, classification_report\n",
    "from sklearn.feature_extraction.text import CountVectorizer, TfidfVectorizer\n",
    "import string \n",
    "import nltk\n",
    "from nltk.tokenize import word_tokenize\n",
    "from nltk.corpus import stopwords\n",
    "import matplotlib.pyplot as plt\n",
    "from sklearn.ensemble import RandomForestClassifier\n",
    "\n"
   ]
  },
  {
   "cell_type": "code",
   "execution_count": 2,
   "metadata": {},
   "outputs": [
    {
     "name": "stdout",
     "output_type": "stream",
     "text": [
      "25000 25000\n"
     ]
    }
   ],
   "source": [
    "train_path = '/Users/marynydegger/Documents/FALL2023/STAT486/Research Project/train'\n",
    "folders = ['neg', 'pos']\n",
    "\n",
    "train_data = []\n",
    "train_labels = []\n",
    "\n",
    "for folder in folders:\n",
    "    folder_path = os.path.join(train_path, folder)\n",
    "    for filename in os.listdir(folder_path):\n",
    "        file_path = os.path.join(folder_path, filename)\n",
    "        with open(file_path, 'r', encoding='utf-8') as file:\n",
    "            text = file.read()\n",
    "            train_data.append(text)\n",
    "            train_labels.append(0 if folder == 'neg' else 1)\n",
    "\n",
    "print(len(train_data), len(train_labels))\n"
   ]
  },
  {
   "cell_type": "code",
   "execution_count": 3,
   "metadata": {},
   "outputs": [
    {
     "name": "stdout",
     "output_type": "stream",
     "text": [
      "Review: 1\n",
      "Working with one of the best Shakespeare sources, this film manages to be creditable to it's source, whilst still appealing to a wider audience.<br /><br />Branagh steals the film from under Fishburne's nose, and there's a talented cast on good form.\n",
      "Label: 0\n",
      "-------------------\n",
      "Review: 2\n",
      "Well...tremors I, the original started off in 1990 and i found the movie quite enjoyable to watch. however, they proceeded to make tremors II and III. Trust me, those movies started going downhill right after they finished the first one, i mean, ass blasters??? Now, only God himself is capable of answering the question \"why in Gods name would they create another one of these dumpster dives of a movie?\" Tremors IV cannot be considered a bad movie, in fact it cannot be even considered an epitome of a bad movie, for it lives up to more than that. As i attempted to sit though it, i noticed that my eyes started to bleed, and i hoped profusely that the little girl from the ring would crawl through the TV and kill me. did they really think that dressing the people who had stared in the other movies up as though they we're from the wild west would make the movie (with the exact same occurrences) any better? honestly, i would never suggest buying this movie, i mean, there are cheaper ways to find things that burn well.\n",
      "Label: 0\n",
      "-------------------\n",
      "Review: 3\n",
      "Ouch! This one was a bit painful to sit through. It has a cute and amusing premise, but it all goes to hell from there. Matthew Modine is almost always pedestrian and annoying, and he does not disappoint in this one. Deborah Kara Unger and John Neville turned in surprisingly decent performances. Alan Bates and Jennifer Tilly, among others, played it way over the top. I know that's the way the parts were written, and it's hard to blame actors, when the script and director have them do such schlock. If you're going to have outrageous characters, that's OK, but you gotta have good material to make it work. It didn't here. Run away screaming from this movie if at all possible.\n",
      "Label: 0\n",
      "-------------------\n",
      "Review: 4\n",
      "I've seen some crappy movies in my life, but this one must be among the very worst. Definately bottom 100 material (imo, that is).<br /><br />We follow two couples, the Dodds (Billy Bob Thornton as Lonnie Earl and Natasha Richardson as Darlene) and the Kirkendalls (Patrick Swayze as Roy and Charlize Theron as Candy) in one car on a roadtrip to Reno.<br /><br />Apparently, Lonnie isn't too happy with his sex-life, so he cheats on his wife with Candy, who's despirately trying to have a baby. Roy, meanwhile, isn't too sure if his sperm is OK so he's getting it checked by a doctor.<br /><br />Now, I had read the back of the DVD, but my girlfriend didn't, and she blurted out after about 20 minutes: 'oh yeah, she's gonna end up pregnant but her husband can't have any baby's'. Spot on, as this movie is soooo predictable. As well as boring. And annoying. Meaningless. Offensive. Terrible.<br /><br />An example of how much this movie stinks. The two couples set out in their big car towards Nevada, when they are stopped by 2 police-officers, as they didn't stop at a stop-sign. The guys know each other and finally bribe the two officers with a case of beer. Not only is this scene pointless and not important (or even relevant) for the movie, it takes about 5 minutes! It's just talk and talk and talk, without ever going somewhere.<br /><br />I still have to puke thinking about the ending though. Apparently, Roy ISN'T having problems down there so he IS the father of the child. How many times does that happen in the movies... try something new! The cheated wife ultimately forgives her husband and best friend for having the affair and they all live happily ever after. Yuck.<br /><br />Best scene of the movie is right at the end, with a couple of shots of the Grand Canyon. Why couldn't they just keep the camera on that for 90 minutes?<br /><br />One would expect more from this cast (although Thornton really tries), but you can't really blame them. Writers, shame on you!<br /><br />1/10.\n",
      "Label: 0\n",
      "-------------------\n",
      "Review: 5\n",
      "\"Carriers\" follows the exploits of two guys and two gals in a stolen Mercedes with the words road warrior on the hood hightailing it down the highway for the beach with surfboards strapped to the top of their car. Brian (Chris Pine of \"Star Trek\") is driving and his girlfriend Bobby (Piper Perabo of \"Coyote Ugly\")has shotgun, while Brian's younger brother, Danny (Lou Taylor Pucci of \"Fanboys\") and his friend--not exactly girlfriend--Kate (Emily VanCamp of \"The Ring 2\") occupy the backseat. This quartet of twentysomething characters are living in a nightmare. Apparently, a viral pandemic--which co-directors & co-scenarists Alex Pastor and David Pastor tell us absolutely nothing about--has devastated America. Naturally, the lack of exposition shaves off at least fifteen minutes that would have slowed down this cynical melodrama about how humans degenerate in a crisis and become their own worst enemies.<br /><br />This lethal virus gives you the shingles and then you bleed and die. Most everybody runs around wearing those white masks strapped to their nose and mouth by a thin rubber band. Initially, this foursome encounters a desperate father, Frank (Christopher Meloni of \"Runaway Bride\"),and his cute little daughter Jodie (Kiernan Shipka of \"Land of the Lost\") blocking the highway with their SUV. Brian swerves around Frank when he tries to waylay them, but in the process, the oil pan in their Mercedes ruptures and they wind up on foot. Reluctantly, they hitch a ride with Frank after they seal Jodie up in the rear of the SUV. She wears a mask over her nose and mouth and it is speckled with blood. Frank has heard that doctors are curing ailing people at a hospital and they head to it. Sadly, somebody has lied to Frank. The hospital physician is giving the last couple of kids some Kool-Aid that will put them out of their misery. The cure did not improve their condition. Everybody else in town is dead. Kate tries without success to get a dial tone on every phone. Frank realizes that there is no hope for his daughter and he lets the heroic quartet appropriate his SUV and take off.<br /><br />Indeed, \"Carriers\" qualifies as a relentlessly depressing movie about the effects of a pandemic on four sympathetic people who degenerate into homicidal murderers to protect themselves. They reach a country club and frolic around on a golf course until another four show up in suits and masks with pump-action shotguns. Incredibly, our protagonists manage to escape without getting shot, but Brian has a scare when he almost falls into the water with a floating corpse. Eventually, they discover that one of them has become infected. Later, as they are about to run out of gas, Brian blocks the highway like Frank did at the outset. Danny tries to stop a pair of older Christian women driving the car. Danny lies that his pregnant wife is about to give birth and he needs their help. Brian throws caution to the wind and blasts away at the ladies with his automatic pistol when they refuse to help them. Brian catches a slug in the leg from the passenger, but he kills her. <br /><br />No,\"Carriers\" is not a beer & pizza movie that you can either laugh off or laugh with because the humor is virtually non-existent. By the end of this 84-minute movie, our heroes have turned into villains who only care only for themselves and their plight. Chris Pine makes quite an impression as fun-loving Brian and his energetic performance is the only reason to hang with this hokum, while the only other well-known actress, Piper Perabo, is relegated to an inconsequential girlfriend role. As Bobby, she makes tragic the mistake of showing compassion to a dying little girl and pays an awful price. It is a testament to Pine's performance that he can change his character to the point of putting himself before others. Essentially, Pine has the only role that gives him the ability to pull a one-eighty from happy-go-lucky guy to heartless guy. <br /><br />The two directors are Spanish brothers, and they never let the momentum flag. Since there is no relief in sight, \"Carriers\" sinks into predictability. \"Irréversible\" cinematographer Benoît Debie does a fantastic job with his widescreen lensing and as unsavory as this road trip becomes, Debie makes it look like a dynamic film. Aside from the lack of a happy ending or closure in any sense of the word, \"Carriers\" suffers because it is so horribly cynical. The scene when the German shepherd attacks Danny conjures up the most suspense, but even it could have been improved. Unfortunately, the Pastor brothers do not scare up either much tension or suspense. By fade-out, you really don't care what happens to anybody.\n",
      "Label: 0\n",
      "-------------------\n"
     ]
    }
   ],
   "source": [
    "for i in range(5):\n",
    "    print(\"Review:\", i+1)\n",
    "    print(train_data[i])\n",
    "    print(\"Label:\", train_labels[i])  # Print corresponding label (0 for neg, 1 for pos)\n",
    "    print(\"-------------------\")"
   ]
  },
  {
   "cell_type": "code",
   "execution_count": 5,
   "metadata": {},
   "outputs": [
    {
     "name": "stdout",
     "output_type": "stream",
     "text": [
      "25000 25000\n"
     ]
    }
   ],
   "source": [
    "test_path = '/Users/marynydegger/Documents/FALL2023/STAT486/Research Project/test'\n",
    "folders = ['neg', 'pos']\n",
    "\n",
    "test_data = []\n",
    "test_labels = []\n",
    "\n",
    "for folder in folders:\n",
    "    folder_path = os.path.join(test_path, folder)\n",
    "    for filename in os.listdir(folder_path):\n",
    "        file_path = os.path.join(folder_path, filename)\n",
    "        with open(file_path, 'r', encoding='utf-8') as file:\n",
    "            text = file.read()\n",
    "            test_data.append(text)\n",
    "            test_labels.append(0 if folder == 'neg' else 1)\n",
    "\n",
    "print(len(test_data), len(test_labels))"
   ]
  },
  {
   "cell_type": "code",
   "execution_count": 6,
   "metadata": {},
   "outputs": [
    {
     "name": "stdout",
     "output_type": "stream",
     "text": [
      "50000\n"
     ]
    }
   ],
   "source": [
    "unsup_path = '/Users/marynydegger/Documents/FALL2023/STAT486/Research Project/train/unsup'\n",
    "\n",
    "unsup_data = []\n",
    "\n",
    "for filename in os.listdir(unsup_path):\n",
    "    file_path = os.path.join(unsup_path, filename)\n",
    "    with open(file_path, 'r', encoding='utf-8') as file:\n",
    "        text = file.read()\n",
    "        unsup_data.append(text)\n",
    "\n",
    "print(len(unsup_data))"
   ]
  },
  {
   "cell_type": "code",
   "execution_count": 6,
   "metadata": {},
   "outputs": [],
   "source": [
    "#Text Preprocessing \n",
    "\n",
    "vectorizer = TfidfVectorizer(max_features = 5000)  \n",
    "X = vectorizer.fit_transform(train_data)\n",
    "y = train_labels\n",
    "\n",
    "X_train, X_val, y_train, y_val = train_test_split(X, y, test_size=0.2, random_state=42)"
   ]
  },
  {
   "cell_type": "code",
   "execution_count": 7,
   "metadata": {},
   "outputs": [
    {
     "name": "stdout",
     "output_type": "stream",
     "text": [
      "Test Set Accuracy:  0.8406\n"
     ]
    }
   ],
   "source": [
    "# Testing and Evaluation \n",
    "\n",
    "X_test = vectorizer.transform(test_data)\n",
    "\n",
    "nb_model = MultinomialNB()\n",
    "nb_model.fit(X_train, y_train)\n",
    "\n",
    "test_preds = nb_model.predict(X_test)\n",
    "\n",
    "test_accuracy = accuracy_score(test_labels, test_preds)\n",
    "print('Test Set Accuracy: ', test_accuracy)"
   ]
  },
  {
   "cell_type": "code",
   "execution_count": 8,
   "metadata": {},
   "outputs": [
    {
     "data": {
      "text/plain": [
       "{'a',\n",
       " 'about',\n",
       " 'above',\n",
       " 'after',\n",
       " 'again',\n",
       " 'against',\n",
       " 'ain',\n",
       " 'all',\n",
       " 'am',\n",
       " 'an',\n",
       " 'and',\n",
       " 'any',\n",
       " 'are',\n",
       " 'aren',\n",
       " \"aren't\",\n",
       " 'as',\n",
       " 'at',\n",
       " 'be',\n",
       " 'because',\n",
       " 'been',\n",
       " 'before',\n",
       " 'being',\n",
       " 'below',\n",
       " 'between',\n",
       " 'both',\n",
       " 'but',\n",
       " 'by',\n",
       " 'can',\n",
       " 'couldn',\n",
       " \"couldn't\",\n",
       " 'd',\n",
       " 'did',\n",
       " 'didn',\n",
       " \"didn't\",\n",
       " 'do',\n",
       " 'does',\n",
       " 'doesn',\n",
       " \"doesn't\",\n",
       " 'doing',\n",
       " 'don',\n",
       " \"don't\",\n",
       " 'down',\n",
       " 'during',\n",
       " 'each',\n",
       " 'few',\n",
       " 'for',\n",
       " 'from',\n",
       " 'further',\n",
       " 'had',\n",
       " 'hadn',\n",
       " \"hadn't\",\n",
       " 'has',\n",
       " 'hasn',\n",
       " \"hasn't\",\n",
       " 'have',\n",
       " 'haven',\n",
       " \"haven't\",\n",
       " 'having',\n",
       " 'he',\n",
       " 'her',\n",
       " 'here',\n",
       " 'hers',\n",
       " 'herself',\n",
       " 'him',\n",
       " 'himself',\n",
       " 'his',\n",
       " 'how',\n",
       " 'i',\n",
       " 'if',\n",
       " 'in',\n",
       " 'into',\n",
       " 'is',\n",
       " 'isn',\n",
       " \"isn't\",\n",
       " 'it',\n",
       " \"it's\",\n",
       " 'its',\n",
       " 'itself',\n",
       " 'just',\n",
       " 'll',\n",
       " 'm',\n",
       " 'ma',\n",
       " 'me',\n",
       " 'mightn',\n",
       " \"mightn't\",\n",
       " 'more',\n",
       " 'most',\n",
       " 'mustn',\n",
       " \"mustn't\",\n",
       " 'my',\n",
       " 'myself',\n",
       " 'needn',\n",
       " \"needn't\",\n",
       " 'no',\n",
       " 'nor',\n",
       " 'not',\n",
       " 'now',\n",
       " 'o',\n",
       " 'of',\n",
       " 'off',\n",
       " 'on',\n",
       " 'once',\n",
       " 'only',\n",
       " 'or',\n",
       " 'other',\n",
       " 'our',\n",
       " 'ours',\n",
       " 'ourselves',\n",
       " 'out',\n",
       " 'over',\n",
       " 'own',\n",
       " 're',\n",
       " 's',\n",
       " 'same',\n",
       " 'shan',\n",
       " \"shan't\",\n",
       " 'she',\n",
       " \"she's\",\n",
       " 'should',\n",
       " \"should've\",\n",
       " 'shouldn',\n",
       " \"shouldn't\",\n",
       " 'so',\n",
       " 'some',\n",
       " 'such',\n",
       " 't',\n",
       " 'than',\n",
       " 'that',\n",
       " \"that'll\",\n",
       " 'the',\n",
       " 'their',\n",
       " 'theirs',\n",
       " 'them',\n",
       " 'themselves',\n",
       " 'then',\n",
       " 'there',\n",
       " 'these',\n",
       " 'they',\n",
       " 'this',\n",
       " 'those',\n",
       " 'through',\n",
       " 'to',\n",
       " 'too',\n",
       " 'under',\n",
       " 'until',\n",
       " 'up',\n",
       " 've',\n",
       " 'very',\n",
       " 'was',\n",
       " 'wasn',\n",
       " \"wasn't\",\n",
       " 'we',\n",
       " 'were',\n",
       " 'weren',\n",
       " \"weren't\",\n",
       " 'what',\n",
       " 'when',\n",
       " 'where',\n",
       " 'which',\n",
       " 'while',\n",
       " 'who',\n",
       " 'whom',\n",
       " 'why',\n",
       " 'will',\n",
       " 'with',\n",
       " 'won',\n",
       " \"won't\",\n",
       " 'wouldn',\n",
       " \"wouldn't\",\n",
       " 'y',\n",
       " 'you',\n",
       " \"you'd\",\n",
       " \"you'll\",\n",
       " \"you're\",\n",
       " \"you've\",\n",
       " 'your',\n",
       " 'yours',\n",
       " 'yourself',\n",
       " 'yourselves'}"
      ]
     },
     "execution_count": 8,
     "metadata": {},
     "output_type": "execute_result"
    }
   ],
   "source": [
    "# Text Cleaning and Tokenization \n",
    "# Lowercasing and removing punctuation\n",
    "\n",
    "train_lower = [review.lower() for review in train_data]\n",
    "train_cleaned = [review.translate(str.maketrans('', '', string.punctuation)) for review in train_lower]\n",
    "\n",
    "tokenized_trained = [word_tokenize(review) for review in train_cleaned]\n",
    "\n",
    "stop_words = set(stopwords.words('english'))\n",
    "\n",
    "# Removes the common stopwords like 'a', 'about' 'are'\n",
    "filtered_data = [[word for word in review if word not in stop_words] for review in tokenized_trained]\n",
    "\n",
    "stop_words"
   ]
  },
  {
   "cell_type": "code",
   "execution_count": 9,
   "metadata": {},
   "outputs": [
    {
     "data": {
      "image/png": "[encoded data removed]",
      "text/plain": [
       "<Figure size 640x480 with 1 Axes>"
      ]
     },
     "metadata": {},
     "output_type": "display_data"
    }
   ],
   "source": [
    "# Insights from initial EDA\n",
    "\n",
    "review_lengths = [len(review) for review in filtered_data]\n",
    "plt.hist(review_lengths, bins = 50)\n",
    "plt.title('Distribution of Review Lengths')\n",
    "plt.xlabel('Review Length')\n",
    "plt.ylabel('Frequency')\n",
    "plt.show()\n"
   ]
  },
  {
   "cell_type": "code",
   "execution_count": 10,
   "metadata": {},
   "outputs": [
    {
     "name": "stdout",
     "output_type": "stream",
     "text": [
      "Positive Reviews:  12500\n",
      "Negative Reviews:  12500\n"
     ]
    }
   ],
   "source": [
    "# class distribution (Divided equally between positive and negatives)\n",
    "\n",
    "pos_reviews = sum(label == 1 for label in train_labels)\n",
    "neg_reviews = sum(label == 0 for label in train_labels)\n",
    "print('Positive Reviews: ', pos_reviews)\n",
    "print('Negative Reviews: ', neg_reviews)\n"
   ]
  },
  {
   "cell_type": "code",
   "execution_count": 11,
   "metadata": {},
   "outputs": [
    {
     "name": "stdout",
     "output_type": "stream",
     "text": [
      "TfidfVectorizer(max_features=5000)\n",
      "  (0, 1809)\t0.2154180451207366\n",
      "  (0, 1948)\t0.09210870815046932\n",
      "  (0, 3118)\t0.06907684364110198\n",
      "  (0, 726)\t0.14360608290300825\n",
      "  (0, 4369)\t0.22797392679128636\n",
      "  (0, 4450)\t0.08664999025268534\n",
      "  (0, 233)\t0.048772016621871\n",
      "  (0, 3048)\t0.2924129724625296\n",
      "  (0, 4646)\t0.1881709343134227\n",
      "  (0, 1852)\t0.08291109911696155\n",
      "  (0, 4189)\t0.27283452917182244\n",
      "  (0, 576)\t0.31527061005603163\n",
      "  (0, 571)\t0.1446463067366365\n",
      "  (0, 360)\t0.17122004800466642\n",
      "  (0, 280)\t0.27171939887106045\n",
      "  (0, 4205)\t0.12874991400841249\n",
      "  (0, 4875)\t0.2681138111368488\n",
      "  (0, 4100)\t0.27586362702665757\n",
      "  (0, 2373)\t0.05259220864003694\n",
      "  (0, 428)\t0.07404580181602996\n",
      "  (0, 4516)\t0.1504092750862989\n",
      "  (0, 2734)\t0.22885394886213406\n",
      "  (0, 1727)\t0.14941504488694773\n",
      "  (0, 4464)\t0.05184674741436131\n",
      "  (0, 3933)\t0.27858798501740445\n",
      "  :\t:\n",
      "  (24999, 2230)\t0.045807913925872905\n",
      "  (24999, 2068)\t0.038816068602694556\n",
      "  (24999, 3851)\t0.0814531140948919\n",
      "  (24999, 3051)\t0.03753132872100591\n",
      "  (24999, 2059)\t0.04731662799792922\n",
      "  (24999, 293)\t0.07862354040693333\n",
      "  (24999, 4877)\t0.04434430695799423\n",
      "  (24999, 3238)\t0.17769551420081375\n",
      "  (24999, 2962)\t0.052639404440574224\n",
      "  (24999, 1795)\t0.033073842348689445\n",
      "  (24999, 230)\t0.04253049360362727\n",
      "  (24999, 2366)\t0.0824048032615609\n",
      "  (24999, 2265)\t0.0836986179268242\n",
      "  (24999, 726)\t0.15086684029285366\n",
      "  (24999, 4450)\t0.045515517088710176\n",
      "  (24999, 233)\t0.05123794127454805\n",
      "  (24999, 571)\t0.07597982904431037\n",
      "  (24999, 2373)\t0.0552512831013141\n",
      "  (24999, 4516)\t0.1580140034759851\n",
      "  (24999, 1727)\t0.1177271285726113\n",
      "  (24999, 4464)\t0.10893626236082674\n",
      "  (24999, 4438)\t0.12491154473516698\n",
      "  (24999, 3095)\t0.07821337948931563\n",
      "  (24999, 3120)\t0.03885102390660305\n",
      "  (24999, 4917)\t0.06731948787821218\n"
     ]
    }
   ],
   "source": [
    "# Feature Engineering \n",
    "\n",
    "bow_vectorizer = CountVectorizer(max_features = 5000)\n",
    "bow_features = bow_vectorizer.fit_transform(train_data)\n",
    "\n",
    "tfidf_vectorizer = TfidfVectorizer(max_features = 5000)\n",
    "tfidf_features = tfidf_vectorizer.fit_transform(train_data)\n",
    "\n",
    "print(tfidf_vectorizer)\n",
    "print(tfidf_features)"
   ]
  },
  {
   "cell_type": "code",
   "execution_count": 12,
   "metadata": {},
   "outputs": [
    {
     "name": "stdout",
     "output_type": "stream",
     "text": [
      "Validation Set Accuracy (Naive Bayes):  0.8502\n"
     ]
    }
   ],
   "source": [
    "# Training a Naive Bayes Classifier \n",
    "\n",
    "nb_model = MultinomialNB()\n",
    "nb_model.fit(X_train, y_train)\n",
    "\n",
    "val_accuacy = nb_model.score(X_val, y_val)\n",
    "print('Validation Set Accuracy (Naive Bayes): ', val_accuacy)"
   ]
  },
  {
   "cell_type": "code",
   "execution_count": 13,
   "metadata": {},
   "outputs": [],
   "source": [
    "# Additional Supervised ML Models \n",
    "\n",
    "from sklearn.linear_model import LogisticRegression\n",
    "from sklearn.ensemble import RandomForestClassifier\n",
    "from sklearn.metrics import precision_score, recall_score, roc_auc_score\n",
    "from sklearn.svm import SVC"
   ]
  },
  {
   "cell_type": "code",
   "execution_count": 14,
   "metadata": {},
   "outputs": [
    {
     "name": "stdout",
     "output_type": "stream",
     "text": [
      "Logistic Regression Testet Accuracy:  0.87992\n",
      "Logistic Regression Precision:  0.8781653129479217\n",
      "Logistic Regression Recall:  0.88224\n",
      "Logistic Regression AUC:  0.87992\n"
     ]
    }
   ],
   "source": [
    "logreg_model = LogisticRegression(max_iter = 1000)\n",
    "logreg_model.fit(X_train, y_train)\n",
    "logreg_accuracy = logreg_model.score(X_test, test_labels)\n",
    "logreg_preds = logreg_model.predict(X_test)\n",
    "logreg_precision = precision_score(test_labels, logreg_preds)\n",
    "logreg_recall = recall_score(test_labels, logreg_preds)\n",
    "logreg_auc = roc_auc_score(test_labels, logreg_preds)\n",
    "\n",
    "print('Logistic Regression Testet Accuracy: ', logreg_accuracy)\n",
    "print('Logistic Regression Precision: ', logreg_precision)\n",
    "print('Logistic Regression Recall: ', logreg_recall)\n",
    "print('Logistic Regression AUC: ', logreg_auc)\n"
   ]
  },
  {
   "cell_type": "code",
   "execution_count": 16,
   "metadata": {},
   "outputs": [
    {
     "name": "stdout",
     "output_type": "stream",
     "text": [
      "SVM Test Set Accuracy:  0.87764\n",
      "SVM Precision:  0.8772476624310717\n",
      "SVM Recall:  0.87816\n",
      "SVM AUC:  0.87764\n"
     ]
    }
   ],
   "source": [
    "# SVM\n",
    "svm_model = SVC(kernel = 'linear')\n",
    "svm_model.fit(X_train, y_train)\n",
    "svm_accuracy = svm_model.score(X_test, test_labels)\n",
    "svm_preds = svm_model.predict(X_test)\n",
    "svm_precision = precision_score(test_labels, svm_preds)\n",
    "svm_recall = recall_score(test_labels, svm_preds)\n",
    "svm_auc = roc_auc_score(test_labels, svm_preds)\n",
    "\n",
    "print('SVM Test Set Accuracy: ', svm_accuracy)\n",
    "print('SVM Precision: ', svm_precision)\n",
    "print('SVM Recall: ', svm_recall)\n",
    "print('SVM AUC: ', svm_auc)"
   ]
  },
  {
   "cell_type": "code",
   "execution_count": 18,
   "metadata": {},
   "outputs": [],
   "source": [
    "# Advanced Supervised methods\n",
    "\n",
    "from tensorflow.keras.models import Sequential\n",
    "from tensorflow.keras.layers import Dense, Dropout"
   ]
  },
  {
   "cell_type": "code",
   "execution_count": 25,
   "metadata": {},
   "outputs": [
    {
     "name": "stdout",
     "output_type": "stream",
     "text": [
      "Epoch 1/5\n",
      "625/625 [==============================] - 3s 4ms/step - loss: 0.3791 - accuracy: 0.8449 - val_loss: 0.2759 - val_accuracy: 0.8878\n",
      "Epoch 2/5\n",
      "625/625 [==============================] - 2s 2ms/step - loss: 0.2253 - accuracy: 0.9133 - val_loss: 0.2733 - val_accuracy: 0.8878\n",
      "Epoch 3/5\n",
      "625/625 [==============================] - 2s 3ms/step - loss: 0.1860 - accuracy: 0.9290 - val_loss: 0.2918 - val_accuracy: 0.8816\n",
      "Epoch 4/5\n",
      "625/625 [==============================] - 2s 3ms/step - loss: 0.1599 - accuracy: 0.9408 - val_loss: 0.3026 - val_accuracy: 0.8790\n",
      "Epoch 5/5\n",
      "625/625 [==============================] - 2s 3ms/step - loss: 0.1364 - accuracy: 0.9503 - val_loss: 0.3241 - val_accuracy: 0.8770\n",
      "782/782 [==============================] - 1s 1ms/step - loss: 0.3447 - accuracy: 0.8674\n",
      "Neural Network Test Set Accuracy:  0.86735999584198\n"
     ]
    }
   ],
   "source": [
    "import numpy as np\n",
    "\n",
    "model = Sequential()\n",
    "model.add(Dense(128, activation='relu', input_shape=(X_train.shape[1],)))\n",
    "model.add(Dropout(0.5))\n",
    "model.add(Dense(1, activation='sigmoid'))\n",
    "\n",
    "model.compile(optimizer='adam', loss='binary_crossentropy', metrics=['accuracy'])\n",
    "\n",
    "# Training the model without toarray() conversion\n",
    "model.fit(X_train, y_train, epochs=5, batch_size=32, validation_data=(X_val, y_val))\n",
    "\n",
    "# Evaluate on test set without toarray() conversion\n",
    "loss, accuracy = model.evaluate(X_test, test_labels)\n",
    "print('Neural Network Test Set Accuracy: ', accuracy)"
   ]
  },
  {
   "cell_type": "code",
   "execution_count": 27,
   "metadata": {},
   "outputs": [
    {
     "name": "stdout",
     "output_type": "stream",
     "text": [
      "PCA + Logistic Regression Test Set Accuracy:  0.84392\n"
     ]
    }
   ],
   "source": [
    "from sklearn.decomposition import PCA\n",
    "from sklearn.linear_model import LogisticRegression\n",
    "\n",
    "# Apply PCA for dimensionality reduction\n",
    "pca = PCA(n_components=100)  # Set the number of components as needed\n",
    "X_train_pca = pca.fit_transform(X_train)\n",
    "X_test_pca = pca.transform(X_test)\n",
    "\n",
    "# Use these reduced dimensions for modeling (e.g., with a classifier)\n",
    "# Example: Logistic Regression with PCA-transformed data\n",
    "pca_logreg_model = LogisticRegression(max_iter=1000)\n",
    "pca_logreg_model.fit(X_train_pca, y_train)\n",
    "pca_accuracy = pca_logreg_model.score(X_test_pca, test_labels)\n",
    "print('PCA + Logistic Regression Test Set Accuracy: ', pca_accuracy)\n"
   ]
  },
  {
   "cell_type": "code",
   "execution_count": 30,
   "metadata": {},
   "outputs": [],
   "source": [
    "# Outlier Analysis (not learned in class) using Isolation Forest\n",
    "\n",
    "from sklearn.ensemble import IsolationForest"
   ]
  },
  {
   "cell_type": "code",
   "execution_count": 33,
   "metadata": {},
   "outputs": [
    {
     "name": "stdout",
     "output_type": "stream",
     "text": [
      "Number of outliers detected: 0\n",
      "Percentage of outliers: 0.00%\n"
     ]
    }
   ],
   "source": [
    "iso_forest = IsolationForest(random_state=42)\n",
    "iso_forest.fit(X_train)\n",
    "\n",
    "outlier_preds = iso_forest.predict(X_train)\n",
    "\n",
    "outliers_count = len(outlier_preds[outlier_preds == -1])\n",
    "outlier_percentage = outliers_count / len(outlier_preds) * 100\n",
    "\n",
    "print(f'Number of outliers detected: {outliers_count}')\n",
    "print(f'Percentage of outliers: {outlier_percentage:.2f}%')"
   ]
  },
  {
   "cell_type": "code",
   "execution_count": 7,
   "metadata": {},
   "outputs": [
    {
     "ename": "NameError",
     "evalue": "name 'RandomForestClassifier' is not defined",
     "output_type": "error",
     "traceback": [
      "\u001b[0;31m---------------------------------------------------------------------------\u001b[0m",
      "\u001b[0;31mNameError\u001b[0m                                 Traceback (most recent call last)",
      "Cell \u001b[0;32mIn[7], line 2\u001b[0m\n\u001b[1;32m      1\u001b[0m \u001b[39m# Random Forest Classifier \u001b[39;00m\n\u001b[0;32m----> 2\u001b[0m rf_model \u001b[39m=\u001b[39m RandomForestClassifier(n_estimators \u001b[39m=\u001b[39m \u001b[39m100\u001b[39m, random_state \u001b[39m=\u001b[39m \u001b[39m42\u001b[39m)\n\u001b[1;32m      3\u001b[0m rf_model\u001b[39m.\u001b[39mfit(X_train, y_train)\n\u001b[1;32m      4\u001b[0m rf_preds \u001b[39m=\u001b[39m rf_model\u001b[39m.\u001b[39mpredict(X_test)\n",
      "\u001b[0;31mNameError\u001b[0m: name 'RandomForestClassifier' is not defined"
     ]
    }
   ],
   "source": [
    "# Random Forest Classifier \n",
    "rf_model = RandomForestClassifier(n_estimators = 100, random_state = 42)\n",
    "rf_model.fit(X_train, y_train)\n",
    "rf_preds = rf_model.predict(X_test)\n",
    "\n",
    "print(classification_report(test_labels, rf_preds))"
   ]
  },
  {
   "cell_type": "code",
   "execution_count": 34,
   "metadata": {},
   "outputs": [],
   "source": [
    "#confusion matrix\n",
    "\n",
    "from sklearn.metrics import confusion_matrix\n",
    "import seaborn as sns\n",
    "import matplotlib.pyplot as plt"
   ]
  },
  {
   "cell_type": "code",
   "execution_count": 36,
   "metadata": {},
   "outputs": [
    {
     "data": {
      "image/png": "[encoded data removed]",
      "text/plain": [
       "<Figure size 640x480 with 2 Axes>"
      ]
     },
     "metadata": {},
     "output_type": "display_data"
    }
   ],
   "source": [
    "conf_matrix = confusion_matrix(test_labels, rf_preds)\n",
    "\n",
    "sns.heatmap(conf_matrix, annot = True, cmap = 'Blues', fmt = 'd')\n",
    "plt.title('Confusion Matrix')\n",
    "plt.xlabel('Predicted')\n",
    "plt.ylabel('True')\n",
    "plt.show()"
   ]
  },
  {
   "cell_type": "code",
   "execution_count": 37,
   "metadata": {},
   "outputs": [],
   "source": [
    "# ROC Curve and AUC\n",
    "\n",
    "from sklearn.metrics import roc_curve, roc_auc_score"
   ]
  },
  {
   "cell_type": "code",
   "execution_count": 40,
   "metadata": {},
   "outputs": [
    {
     "data": {
      "image/png": "[encoded data removed]",
      "text/plain": [
       "<Figure size 640x480 with 1 Axes>"
      ]
     },
     "metadata": {},
     "output_type": "display_data"
    }
   ],
   "source": [
    "rf_probs = rf_model.predict_proba(X_test)[:, 1]\n",
    "fpr, tpr, thresholds = roc_curve(test_labels, rf_probs)\n",
    "auc_score = roc_auc_score(test_labels, rf_probs)\n",
    "\n",
    "plt.plot(fpr, tpr, label = f'AUC = {auc_score: .2f}')\n",
    "plt.xlabel('False Positive Rate')\n",
    "plt.ylabel('True Positive Rate')\n",
    "plt.title('ROC Curve')\n",
    "plt.legend()\n",
    "plt.show()"
   ]
  },
  {
   "cell_type": "code",
   "execution_count": 43,
   "metadata": {},
   "outputs": [],
   "source": [
    "# Feature importance for Tree based models \n",
    "\n",
    "feature_importances = rf_model.feature_importances_\n",
    "num_features = X_train.shape[1]\n",
    "feature_names = [f'Feature {i}' for i in range(num_features)]\n",
    "\n",
    "plt.figure(figsize = (10, 6))\n",
    "plt.barh(range(num_features), feature_importances, align = 'center')\n",
    "plt.yticks(range(num_features), feature_names)\n",
    "plt.xlabel('Feature Importance')\n",
    "plt.ylabel('Feature')\n",
    "plt.title('Feature Importance in Random Forest')\n",
    "plt.show()\n"
   ]
  }
 ],
 "metadata": {
  "kernelspec": {
   "display_name": "base",
   "language": "python",
   "name": "python3"
  },
  "language_info": {
   "codemirror_mode": {
    "name": "ipython",
    "version": 3
   },
   "file_extension": ".py",
   "mimetype": "text/x-python",
   "name": "python",
   "nbconvert_exporter": "python",
   "pygments_lexer": "ipython3",
   "version": "3.11.4"
  },
  "orig_nbformat": 4
 },
 "nbformat": 4,
 "nbformat_minor": 2
}
